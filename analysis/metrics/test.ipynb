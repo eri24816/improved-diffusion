{
 "cells": [
  {
   "cell_type": "code",
   "execution_count": null,
   "metadata": {},
   "outputs": [],
   "source": [
    "# autoreload\n",
    "%load_ext autoreload\n",
    "%autoreload 2\n"
   ]
  },
  {
   "cell_type": "code",
   "execution_count": null,
   "metadata": {},
   "outputs": [],
   "source": [
    "from utils.pianoroll import PianoRoll\n",
    "import matplotlib.pyplot as plt\n",
    "import numpy as np"
   ]
  },
  {
   "cell_type": "code",
   "execution_count": null,
   "metadata": {},
   "outputs": [],
   "source": [
    "pr = PianoRoll.from_midi('../../log/ema_0.9999_2700000/6.mid')"
   ]
  },
  {
   "cell_type": "code",
   "execution_count": null,
   "metadata": {},
   "outputs": [],
   "source": [
    "ch = (pr.to_tensor(chromagram=True)>0).float()\n",
    "ch /= (ch.sum(dim=1, keepdim=True)+1e-9)\n",
    "plt.imshow(ch[:32].t())\n",
    "plt.colorbar()"
   ]
  },
  {
   "cell_type": "code",
   "execution_count": null,
   "metadata": {},
   "outputs": [],
   "source": [
    "def sim_mat(x):\n",
    "    return x @ x.t() \n",
    "s = sim_mat(ch)"
   ]
  },
  {
   "cell_type": "code",
   "execution_count": null,
   "metadata": {},
   "outputs": [],
   "source": [
    "def harmonic_mean(x):\n",
    "    return 1/(1/(x)).mean(dim=1)\n",
    "fitness = s.mean(dim=1)"
   ]
  },
  {
   "cell_type": "code",
   "execution_count": null,
   "metadata": {},
   "outputs": [],
   "source": [
    "n = len(fitness)\n",
    "scape = np.zeros((n, n))\n",
    "scape[0] = fitness**0.5\n",
    "for l in range(n):\n",
    "    for m in range(n-l):\n",
    "        scape[l, m] = scape[l-1, m] + fitness[m+l]**0.5\n",
    "for l in range(n):\n",
    "    scape[l] = (scape[l]/(l+1))**2\n",
    "\n",
    "import io\n",
    "import PIL.Image\n",
    "import torchvision.transforms.functional as TF\n",
    "import torch\n",
    "def fig_to_pil(fig):\n",
    "    plt.axis('off')\n",
    "    fig.axes[0].get_xaxis().set_visible(False)\n",
    "    fig.axes[0].get_yaxis().set_visible(False)\n",
    "    buf = io.BytesIO()\n",
    "    \n",
    "    fig.savefig(buf,pad_inches =0)\n",
    "    buf.seek(0)\n",
    "    return PIL.Image.open(buf)\n",
    "\n",
    "#(1.23205 | -1.23205 | 1.73205 -0.366025 | -1.36603 | 1.36603)\n",
    "scape = TF.to_tensor(scape)/0.009\n",
    "print(scape.min(), scape.max())\n",
    "scape = torch.cat([scape,scape,scape])\n",
    "img = TF.to_pil_image((scape).clamp(0,1))\n",
    "img.transform(img.size,PIL.Image.AFFINE,[1,-0.5,0,0,1,0]).transform(img.size,PIL.Image.AFFINE,[1,0,0,0,-2/3**0.5,img.size[1]])\n"
   ]
  },
  {
   "cell_type": "code",
   "execution_count": null,
   "metadata": {},
   "outputs": [],
   "source": [
    "plt.imshow(scape[0])\n",
    "plt.colorbar()"
   ]
  },
  {
   "cell_type": "code",
   "execution_count": null,
   "metadata": {},
   "outputs": [],
   "source": [
    "\n",
    "fitness"
   ]
  },
  {
   "cell_type": "code",
   "execution_count": null,
   "metadata": {},
   "outputs": [],
   "source": [
    "import torch\n",
    "import matplotlib.pyplot as plt\n",
    "from utils.pianoroll import PianoRoll, PianoRollDataset\n",
    "from tqdm import tqdm\n",
    "import numpy as np\n",
    "\n",
    "velocity_mapping = lambda x: x**0.1\n",
    "\n",
    "def calc_polyphony(pr:torch.Tensor,velocity_mapping = lambda x: (x<0.2)*4.5*x+(x>0.2)*(0.9+0.125*(x-0.2))):\n",
    "    \"\"\"Calculate the polyphony of a one-bar pianoroll.\n",
    "\n",
    "    Args:\n",
    "        pr (torch.Tensor): A pianoroll tensor with shape (B,32,88). Values are in [0,127].\n",
    "\n",
    "    Returns:\n",
    "        int: The polyphony of the pianoroll.\n",
    "    \"\"\"\n",
    "    assert list(pr.shape)[-2:] == [32,88]\n",
    "    B = pr.shape[0]\n",
    "    pr = (pr/128).clamp(0,1)\n",
    "    pr = velocity_mapping(pr) # [B,32,88]\n",
    "    #pr = (pr>0).float()#===============================\n",
    "    end_dist_list = []\n",
    "    scanner = torch.zeros(B,88,device=pr.device)\n",
    "    for i in range(31,-1,-1):\n",
    "        scanner = scanner + 1\n",
    "        end_dist_list += [scanner]\n",
    "        current = pr[:,i]\n",
    "        scanner = scanner * (1-current)\n",
    "\n",
    "    end_dist = torch.stack(list(reversed(end_dist_list)),dim=1) # [B,32,88]\n",
    "    weights = end_dist.detach()\n",
    "\n",
    "    weighted_pr = pr * weights # [B,32,88]\n",
    "    polyphony = weighted_pr.sum(dim=2).mean(dim=1) # [B]\n",
    "    return polyphony\n",
    "\n",
    "if __name__ == '__main__':\n",
    "    #　Load the data\n",
    "    ds = PianoRollDataset('/screamlab/home/eri24816/pianoroll_dataset/data/dataset_1/pianoroll_split/val')\n",
    "    #　Calculate the polyphony\n",
    "    bins = np.zeros(88)\n",
    "    polyphony_list = []\n",
    "    for pr in tqdm(ds.pianorolls):\n",
    "        pr = pr.to_tensor()\n",
    "        pr = pr.view(-1,32,88)\n",
    "        for bar in pr:\n",
    "            polyphony = calc_polyphony(bar.unsqueeze(0))\n",
    "            bins[min(int(polyphony),139)]+=1\n",
    "            polyphony_list.append(polyphony[0].item())\n",
    "\n",
    "    plt.bar(range(30),bins[:30])\n",
    "    plt.savefig('polyphony.png')\n"
   ]
  },
  {
   "cell_type": "code",
   "execution_count": null,
   "metadata": {},
   "outputs": [],
   "source": [
    "# get 11 quantiles\n",
    "import numpy as np\n",
    "quantiles = np.quantile(polyphony_list, np.arange(0,1.1,0.1))\n",
    "str(list(quantiles))\n"
   ]
  },
  {
   "cell_type": "code",
   "execution_count": null,
   "metadata": {},
   "outputs": [],
   "source": [
    "pr= torch.zeros(4,32,88)\n",
    "pr[0,19,50] = 80\n",
    "pr[0,0,50] = 80\n",
    "pr[0,0,51] = 80\n",
    "calc_polyphony(pr)"
   ]
  },
  {
   "cell_type": "code",
   "execution_count": null,
   "metadata": {},
   "outputs": [],
   "source": [
    "def calc_polyphony(pr:torch.Tensor,velocity_mapping = lambda x: x**0.1):\n",
    "    \"\"\"Calculate the polyphony of a one-bar pianoroll.\n",
    "\n",
    "    Args:\n",
    "        pr (torch.Tensor): A pianoroll tensor with shape (B,32,88). Values are in [0,127].\n",
    "\n",
    "    Returns:\n",
    "        int: The polyphony of the pianoroll.\n",
    "    \"\"\"\n",
    "    assert list(pr.shape)[-2:] == [32,88]\n",
    "    B = pr.shape[0]\n",
    "    pr = (pr/128).clamp(0,1)\n",
    "    pr = velocity_mapping(pr) # [B,32,88]\n",
    "    #pr = (pr>0).float()#===============================\n",
    "    end_dist_list = []\n",
    "    scanner = torch.zeros(B,88,device=pr.device)\n",
    "    for i in range(31,-1,-1):\n",
    "        scanner = scanner + 1\n",
    "        end_dist_list += [scanner]\n",
    "        current = pr[:,i]\n",
    "        scanner = scanner * (1-current)\n",
    "\n",
    "    end_dist = torch.stack(list(reversed(end_dist_list)),dim=1) # [B,32,88]\n",
    "    weights = end_dist.detach()\n",
    "\n",
    "    weighted_pr = pr * weights # [B,32,88]\n",
    "    polyphony = weighted_pr.sum(dim=2).mean(dim=1) # [B]\n",
    "    return polyphony"
   ]
  },
  {
   "cell_type": "code",
   "execution_count": null,
   "metadata": {},
   "outputs": [],
   "source": [
    "def map_with_quantiles(x,quantiles):\n",
    "    # map x with quantiles of its distribution to uniform [0,1]\n",
    "    result = torch.zeros_like(x)\n",
    "    n = len(quantiles)-1\n",
    "    for i in range(n):\n",
    "        result += (x>=quantiles[i])*(x<quantiles[i+1]) * (i/n + (x-quantiles[i])/(quantiles[i+1]-quantiles[i])/n)\n",
    "    \n",
    "    result += (x>=quantiles[n]) * (i/n + (x-quantiles[i])/(quantiles[i+1]-quantiles[i])/n)\n",
    "    return result\n"
   ]
  },
  {
   "cell_type": "code",
   "execution_count": null,
   "metadata": {},
   "outputs": [],
   "source": [
    "mapped_polyphony_list = map_with_quantiles(torch.tensor(polyphony_list),quantiles)"
   ]
  },
  {
   "cell_type": "code",
   "execution_count": null,
   "metadata": {},
   "outputs": [],
   "source": [
    "# histogram of mapped polyphony\n",
    "bins = np.zeros(51)\n",
    "for p in mapped_polyphony_list:\n",
    "    bins[int(p*50)]+=1\n",
    "plt.bar(range(51),bins)"
   ]
  },
  {
   "cell_type": "code",
   "execution_count": null,
   "metadata": {},
   "outputs": [],
   "source": [
    "plt.plot(map_with_quantiles(torch.tensor(np.linspace(0,0.5,20)),quantiles))"
   ]
  },
  {
   "cell_type": "code",
   "execution_count": null,
   "metadata": {},
   "outputs": [],
   "source": [
    "def map_to_quantiles(x:float,quantiles):\n",
    "    # map x with uniform [0,1] to quantiles of its distribution.\n",
    "    # differentiable\n",
    "    # quantiles includes 0 and 1\n",
    "    n = len(quantiles)-1\n",
    "    for i in range(n):\n",
    "        if x < (i+1)/n:\n",
    "            return quantiles[i] + (x-i/n)*(quantiles[i+1]-quantiles[i])\n",
    "    return quantiles[n]"
   ]
  },
  {
   "cell_type": "code",
   "execution_count": null,
   "metadata": {},
   "outputs": [],
   "source": [
    "map_to_quantiles(1,quantiles)"
   ]
  },
  {
   "cell_type": "code",
   "execution_count": null,
   "metadata": {},
   "outputs": [],
   "source": [
    "a = torch.tensor([0.1,0.2,0.3,0.4,0.5,0.6,0.7,0.8,0.9,1]).unsqueeze(1)\n",
    "l=0\n",
    "for i in a:\n",
    "    l+=a.sum()\n",
    "l.backward()\n",
    "a.grad"
   ]
  },
  {
   "cell_type": "code",
   "execution_count": null,
   "metadata": {},
   "outputs": [],
   "source": [
    "i"
   ]
  },
  {
   "cell_type": "code",
   "execution_count": null,
   "metadata": {},
   "outputs": [],
   "source": []
  },
  {
   "cell_type": "code",
   "execution_count": null,
   "metadata": {},
   "outputs": [],
   "source": [
    "from grooving import grooving_sim_matrix_across_bars, metric_iou\n",
    "import matplotlib.pyplot as plt\n",
    "pr = PianoRoll.from_midi(\"/screamlab/home/eri24816/improved-diffusion/log/experiments/c24/('c24', 8, 3).mid\")\n",
    "#pr = PianoRoll.from_midi(\"/screamlab/home/eri24816/improved-diffusion/log/input/untitled.mid\")\n",
    "m = grooving_sim_matrix_across_bars(pr,16,metric_iou)\n",
    "plt.imshow(m,vmax=1,vmin=0)\n",
    "print(m.mean())"
   ]
  },
  {
   "cell_type": "code",
   "execution_count": null,
   "metadata": {},
   "outputs": [],
   "source": [
    "m"
   ]
  },
  {
   "cell_type": "code",
   "execution_count": 91,
   "metadata": {},
   "outputs": [],
   "source": [
    "from utils.io_util import json_load, json_dump\n",
    "import os\n",
    "from utils.pianoroll import PianoRoll\n",
    "from grooving import grooving_sim_matrix_across_bars, metric_iou\n",
    "in_dir = '../../log/experiments/a42_'\n",
    "#in_dir = '../../log/experiments/b28'\n",
    "#in_dir = '../../log/experiments/c24'\n",
    "\n",
    "#load all midi files\n",
    "songs = []\n",
    "for root, dirs, files in os.walk(in_dir):\n",
    "    for file in files:\n",
    "        if file.endswith('.mid'):\n",
    "            songs.append(PianoRoll.from_midi(os.path.join(root, file)))\n",
    "\n",
    "scores = []\n",
    "for pr in songs:\n",
    "    score = grooving_sim_matrix_across_bars(pr,16,metric_iou).mean()\n",
    "    scores.append(score)"
   ]
  },
  {
   "cell_type": "code",
   "execution_count": 93,
   "metadata": {},
   "outputs": [
    {
     "data": {
      "text/plain": [
       "64.0"
      ]
     },
     "execution_count": 93,
     "metadata": {},
     "output_type": "execute_result"
    }
   ],
   "source": [
    "print(np.mean(scores),np.std(scores))\n",
    "plt.hist(scores)"
   ]
  },
  {
   "cell_type": "code",
   "execution_count": null,
   "metadata": {},
   "outputs": [],
   "source": [
    "plt.hist(scores)"
   ]
  },
  {
   "cell_type": "code",
   "execution_count": null,
   "metadata": {},
   "outputs": [],
   "source": [
    "plt.hist(scores)"
   ]
  },
  {
   "cell_type": "code",
   "execution_count": 1,
   "metadata": {},
   "outputs": [],
   "source": [
    "from typing import List\n",
    "import os\n",
    "from utils.pianoroll import PianoRoll\n",
    "import numpy as np\n",
    "import matplotlib.pyplot as plt\n",
    "\n",
    "high_clamp = 51\n",
    "low_clamp = 39\n",
    "pitch_weight = lambda pitch: min(1,max(1e-8,1-(pitch-low_clamp)/(high_clamp-low_clamp)))\n",
    "#pitch_weight = lambda pitch: 1\n",
    "#pitch_weight = lambda pitch: 1 if low_clamp<39 else 1e-8\n",
    "local_shift_search_order = [0,1,-1,2,-2,12,-12,3,-3,4,-4,24,-24,5,-5,6,-6,36,-36]\n",
    "local_shift_losses = [0,1,1,2,2,2,2,3,3,4,4,4,4,5,5,6,6,6,6]\n",
    "global_shift_losses = [0,1,1,2,2,2,2,2,2,2,2,2,2,2,2,2,2,2,2,2]\n",
    "def harmony_dist_asym(a:List,b:List):\n",
    "    b_dense = [0]*88\n",
    "    for note in b:\n",
    "        b_dense[note] = 1\n",
    "\n",
    "    min_loss = 1000000\n",
    "    for global_shift in range(-12,13):\n",
    "        loss = 0\n",
    "        loss += global_shift_losses[abs(global_shift)]\n",
    "        for note in a:\n",
    "            note_gs = note + global_shift\n",
    "            for local_shift, local_shift_loss in zip(local_shift_search_order,local_shift_losses):\n",
    "                note_gs_ls = note_gs + local_shift\n",
    "                if note_gs_ls>=0 and note_gs_ls<88 and b_dense[note_gs_ls]:\n",
    "                    loss += local_shift_loss*pitch_weight(note)\n",
    "                    break\n",
    "            else:\n",
    "                loss += 6*pitch_weight(note)\n",
    "        min_loss = min(min_loss,loss)\n",
    "    return min_loss\n",
    "\n",
    "def harmony_dist(a:List,b:List):\n",
    "    #return max(harmony_dist_asym(a,b),harmony_dist_asym(b,a))\n",
    "    return (harmony_dist_asym(a,b)+harmony_dist_asym(b,a))/2\n",
    "\n",
    "def structural_dist(a:PianoRoll,b:PianoRoll,quantize_resolution=32):\n",
    "\n",
    "    quantize_factor = 32//quantize_resolution\n",
    "    #quantize\n",
    "    for note in a.notes:\n",
    "        note.onset = note.onset//quantize_factor*quantize_factor\n",
    "\n",
    "    time_steps_with_onsets = set()\n",
    "    for onset,pitch,velocity,offset in a.iter_over_notes():\n",
    "        time_steps_with_onsets.add(onset)\n",
    "    for onset,pitch,velocity,offset in b.iter_over_notes():\n",
    "        time_steps_with_onsets.add(onset)\n",
    "    \n",
    "    harmony_pairs_ab = {onset:{'a':[],'b':[]}for onset in time_steps_with_onsets}\n",
    "    harmony_pairs_ba = {onset:{'a':[],'b':[]}for onset in time_steps_with_onsets}\n",
    "    denom_a = 0\n",
    "    denom_b = 0\n",
    "\n",
    "    a_already_pressed = set()\n",
    "    for onset,pitch,velocity,offset in a.iter_over_notes():\n",
    "        pitch -= 21\n",
    "\n",
    "        harmony_pairs_ba[onset]['a'].append(pitch)\n",
    "        if pitch not in a_already_pressed:\n",
    "            harmony_pairs_ab[onset]['a'].append(pitch)\n",
    "            a_already_pressed.add(pitch)\n",
    "            denom_a += pitch_weight(pitch)\n",
    "\n",
    "    b_already_pressed = set()\n",
    "    for onset,pitch,velocity,offset in b.iter_over_notes():\n",
    "        pitch -= 21\n",
    "\n",
    "        harmony_pairs_ab[onset]['b'].append(pitch)\n",
    "        if pitch not in b_already_pressed:\n",
    "            harmony_pairs_ba[onset]['b'].append(pitch)\n",
    "            b_already_pressed.add(pitch)\n",
    "            denom_b += pitch_weight(pitch)\n",
    "\n",
    "    dist = 0\n",
    "    for pair in harmony_pairs_ab.values():\n",
    "        dist += harmony_dist_asym(pair['a'],pair['b'])/(denom_a+1e-8)\n",
    "    for pair in harmony_pairs_ba.values():\n",
    "        dist += harmony_dist_asym(pair['b'],pair['a'])/(denom_b+1e-8)\n",
    "\n",
    "\n",
    "    return dist\n",
    "\n",
    "def structural_dist_matrix(a:PianoRoll,quantize_resolution=32):\n",
    "    matrix = np.zeros((16,16))\n",
    "    for i in range(16):\n",
    "        for j in range(i+1,16):\n",
    "            matrix[i,j] = structural_dist(a.slice(i*32,(i+1)*32),a.slice(j*32,(j+1)*32),quantize_resolution)\n",
    "            matrix[j,i] = matrix[i,j]\n",
    "    return matrix\n",
    "\n",
    "def nonempty_mask(a:PianoRoll,min_num_notes=4):\n",
    "    mask = np.ones((16,16))\n",
    "    for i in range(16):\n",
    "        target = a.slice(i*32,(i+1)*32)\n",
    "        if len(target.notes)<min_num_notes:\n",
    "            mask[i,:] = 0\n",
    "            mask[:,i] = 0\n",
    "    return mask"
   ]
  },
  {
   "cell_type": "code",
   "execution_count": 2,
   "metadata": {},
   "outputs": [],
   "source": [
    "a_dir = '../../log/experiments/a42'\n",
    "b_dir = '../../log/experiments/b28'\n",
    "c_dir = '../../log/experiments/c24'\n",
    "\n",
    "#load all midi files\n",
    "a_samples = []\n",
    "for root, dirs, files in os.walk(a_dir):\n",
    "    for file in files:\n",
    "        if file.endswith('.mid'):\n",
    "            a_samples.append(PianoRoll.from_midi(os.path.join(root, file)))\n",
    "\n",
    "b_samples = []\n",
    "for root, dirs, files in os.walk(b_dir):\n",
    "    for file in files:\n",
    "        if file.endswith('.mid'):\n",
    "            b_samples.append(PianoRoll.from_midi(os.path.join(root, file)))\n",
    "\n",
    "c_samples = []\n",
    "for root, dirs, files in os.walk(c_dir):\n",
    "    for file in files:\n",
    "        if file.endswith('.mid'):\n",
    "            c_samples.append(PianoRoll.from_midi(os.path.join(root, file)))\n",
    "\n",
    "old_samples = []\n",
    "for file in os.listdir('/screamlab/home/eri24816/improved-diffusion/log/experiments/ema_0.9999_2700000'):\n",
    "    if file.endswith('.mid'):\n",
    "        old_samples.append(PianoRoll.from_midi(os.path.join('/screamlab/home/eri24816/improved-diffusion/log/experiments/ema_0.9999_2700000', file)))\n",
    "\n",
    "\n",
    "dataset = []\n",
    "for file in os.listdir('../../../pianoroll_dataset/data/dataset_1/pianoroll'):\n",
    "    if file.endswith('.json'):\n",
    "        dataset.append(PianoRoll.load(os.path.join('../../../pianoroll_dataset/data/dataset_1/pianoroll', file)))\n",
    "\n"
   ]
  },
  {
   "cell_type": "code",
   "execution_count": null,
   "metadata": {},
   "outputs": [],
   "source": [
    "cp_samples = []\n",
    "for file in os.listdir('/screamlab/home/eri24816/compound-word-transformer/gen_midis/32'):\n",
    "    cp_samples.append(PianoRoll.from_midi(os.path.join('/screamlab/home/eri24816/compound-word-transformer/gen_midis/32', file)))"
   ]
  },
  {
   "cell_type": "code",
   "execution_count": 5,
   "metadata": {},
   "outputs": [
    {
     "name": "stdout",
     "output_type": "stream",
     "text": [
      "PianoRoll Bar 000 - 007 of ('a42', 28, 2)\n",
      "3.6759442239848243\n"
     ]
    },
    {
     "data": {
      "text/plain": [
       "ticks per beat: 480\n",
       "max tick: 0\n",
       "tempo changes: 1\n",
       "time sig: 0\n",
       "key sig: 0\n",
       "markers: 0\n",
       "lyrics: False\n",
       "instruments: 1"
      ]
     },
     "execution_count": 5,
     "metadata": {},
     "output_type": "execute_result"
    },
    {
     "data": {
      "image/png": "[encoded data removed]",
      "text/plain": [
       "<Figure size 432x288 with 1 Axes>"
      ]
     },
     "metadata": {
      "needs_background": "light"
     },
     "output_type": "display_data"
    }
   ],
   "source": [
    "# for sample in old_samples:\n",
    "#     sample: PianoRoll\n",
    "#     if  sample.metadata.name =='11' :\n",
    "#         break\n",
    "# else:\n",
    "#     raise Exception(\"sample not found\")\n",
    "\n",
    "# start_bar = 33\n",
    "# for sample in dataset:\n",
    "#     sample: PianoRoll\n",
    "#     if sample.metadata.name == '52':\n",
    "#         break\n",
    "# else:\n",
    "#     raise Exception(\"sample not found\")\n",
    "# sample = sample.slice((start_bar-1)*32,(start_bar-1+16)*32)\n",
    "\n",
    "# path = '/screamlab/home/eri24816/compound-word-transformer/gen_midis/get_5.mid'\n",
    "# sample = PianoRoll.from_midi(path)\n",
    "# start_bar = 12\n",
    "# sample = sample.slice((start_bar-1)*32,(start_bar-1+16)*32)\n",
    "for i, sample in enumerate(a_samples[:10]):\n",
    "\n",
    "    m=structural_dist_matrix(sample)\n",
    "    #plt.imshow(-m,vmin=-6,vmax=0)\n",
    "    plt.imshow(m<2)\n",
    "    plt.savefig(f'temp/a/{i}.png')\n",
    "#plt.colorbar()\n",
    "print(sample)\n",
    "print(m.mean())\n",
    "sample.to_midi('temp.mid')"
   ]
  },
  {
   "cell_type": "code",
   "execution_count": null,
   "metadata": {},
   "outputs": [],
   "source": [
    "def sim_distribution(samples:List[PianoRoll],diag=1):\n",
    "    sims = []\n",
    "    for sample in samples:\n",
    "        sim_mat = structural_dist_matrix(sample)\n",
    "        mask = nonempty_mask(sample)\n",
    "        for sim, mask in zip(sim_mat.diagonal(diag).tolist(),mask.diagonal(diag).tolist()):\n",
    "            if mask:    \n",
    "                sims.append(sim)\n",
    "    return sims\n"
   ]
  },
  {
   "cell_type": "code",
   "execution_count": null,
   "metadata": {},
   "outputs": [],
   "source": [
    "sd = sim_distribution(c_samples,diag=2)\n",
    "_=plt.hist(sd,bins=50)\n",
    "sd = np.array(sd)\n",
    "sd.mean(),sd.std(),sum(sd<2)/len(sd)\n"
   ]
  },
  {
   "cell_type": "code",
   "execution_count": null,
   "metadata": {},
   "outputs": [],
   "source": [
    "sd = sim_distribution(b_samples,diag=2)\n",
    "_=plt.hist(sd,bins=50)\n",
    "sd = np.array(sd)\n",
    "sd.mean(),sd.std(),sum(sd<2)/len(sd)"
   ]
  },
  {
   "cell_type": "code",
   "execution_count": null,
   "metadata": {},
   "outputs": [],
   "source": [
    "sd = sim_distribution(a_samples,diag=1)\n",
    "_=plt.hist(sd,bins=12)\n",
    "sd = np.array(sd)\n",
    "sd.mean(),sd.std(),sum(sd<2)/len(sd)"
   ]
  },
  {
   "cell_type": "code",
   "execution_count": null,
   "metadata": {},
   "outputs": [],
   "source": [
    "sd = sim_distribution(\n",
    "    [s.slice(32*0,32*16) for s in cp_samples]+\n",
    "    [s.slice(32*16,32*32) for s in cp_samples]\n",
    ",diag=2)\n",
    "_=plt.hist(sd,bins=50)\n",
    "sd = np.array(sd)\n",
    "sd.mean(),sd.std(),sum(sd<2)/len(sd)"
   ]
  },
  {
   "cell_type": "code",
   "execution_count": null,
   "metadata": {},
   "outputs": [],
   "source": [
    "sd = sim_distribution(\n",
    "    [s.slice(32*16,32*32) for s in dataset[::10]]\n",
    ",diag=2)\n",
    "_=plt.hist(sd,bins=50)\n",
    "sd = np.array(sd)\n",
    "sd.mean(),sd.std(),sum(sd<2)/len(sd)"
   ]
  },
  {
   "cell_type": "code",
   "execution_count": null,
   "metadata": {},
   "outputs": [],
   "source": [
    "sd = np.array(sd)\n",
    "sum(sd<2)/len(sd)"
   ]
  },
  {
   "cell_type": "code",
   "execution_count": null,
   "metadata": {},
   "outputs": [],
   "source": [
    "sda = sim_distribution(a_samples,diag=2)\n",
    "sdb = sim_distribution(b_samples,diag=2)\n",
    "sdc = sim_distribution(c_samples,diag=2)\n",
    "sdcp = sim_distribution(cp_samples,diag=2)\n",
    "sddata = sim_distribution([s.slice(32*16,32*32) for s in dataset[::10]],diag=2)"
   ]
  },
  {
   "cell_type": "code",
   "execution_count": null,
   "metadata": {},
   "outputs": [],
   "source": [
    "# cumulative histogram\n",
    "plt.hist(sda,bins=500,density=True,cumulative=True,histtype='step',label='a')\n",
    "plt.hist(sdb,bins=500,density=True,cumulative=True,histtype='step',label='b')\n",
    "plt.hist(sdc,bins=500,density=True,cumulative=True,histtype='step',label='c')\n",
    "plt.hist(sdcp,bins=500,density=True,cumulative=True,histtype='step',label='cp')\n",
    "plt.hist(sddata,bins=500,density=True,cumulative=True,histtype='step',label='data')\n",
    "plt.legend()"
   ]
  },
  {
   "cell_type": "code",
   "execution_count": 79,
   "metadata": {},
   "outputs": [],
   "source": [
    "import random\n",
    "\n",
    "def load_pianorolls_from_folder(path):\n",
    "    samples = []\n",
    "    for file in os.listdir(path):\n",
    "        samples.append(PianoRoll.from_midi(os.path.join(path, file)))\n",
    "    return samples\n",
    "\n",
    "# metrics based on dist matrix\n",
    "def diag_entries_hist(dist_mats_and_masks,diag = 1):\n",
    "    dists = []\n",
    "    denom = 0\n",
    "    for dist_mat, mask in dist_mats_and_masks:\n",
    "        dist_mat:np.ndarray\n",
    "        dists.extend(dist_mat.diagonal(diag)[mask.diagonal(diag)==1].tolist())\n",
    "        denom+=sum(mask.diagonal(diag))\n",
    "    #histogram\n",
    "    histogram = [0.]*20\n",
    "    for i in range(20):\n",
    "        histogram[i] = sum([d<i+1 and d>=i for d in dists])\n",
    "\n",
    "    for i in range(20):\n",
    "        histogram[i]/=(denom+1e-8)\n",
    "\n",
    "    return histogram, denom\n",
    "\n",
    "def count_repititions(dist_mats_and_masks,diag=1,min_len=1,threshold=2):\n",
    "    count = 0\n",
    "    denom = 0\n",
    "    for dist_mat, mask in dist_mats_and_masks:\n",
    "        dist_mat:np.ndarray\n",
    "        mask:np.ndarray\n",
    "        dists = dist_mat.diagonal(diag)\n",
    "        masks = mask.diagonal(diag)\n",
    "        local_count = 0\n",
    "        for i in range(len(dists)):\n",
    "            if masks[i]:\n",
    "                denom+=1\n",
    "            if masks[i] and dists[i]<threshold:\n",
    "                local_count+=1\n",
    "            else:\n",
    "                if local_count>=min_len:\n",
    "                    count+=local_count\n",
    "                local_count = 0\n",
    "        if local_count>=min_len:\n",
    "            count+=local_count\n",
    "    return count/(denom+1e-8)\n",
    "\n",
    "def analyze_stucture(songs:List[PianoRoll],samples_per_song=1):\n",
    "    samples = []\n",
    "    for song in songs:\n",
    "        for i in range(samples_per_song):\n",
    "            start = random.randint(0,max(0,song.duration//32-16))*32\n",
    "            samples.append(song.slice(start,start+32*16))\n",
    "\n",
    "    dist_mats_and_masks = []\n",
    "    for sample in samples:\n",
    "        dist_mat = structural_dist_matrix(sample)\n",
    "        mask = nonempty_mask(sample)\n",
    "        dist_mat[mask==0]=1000000\n",
    "        dist_mats_and_masks.append((dist_mat,mask))\n",
    "\n",
    "    diag_hist = [[]for _ in range(16)]\n",
    "    diag_hist_denoms = [0.]*16\n",
    "    for i in range(1,16):\n",
    "        diag_hist[i], diag_hist_denoms[i] = diag_entries_hist(dist_mats_and_masks,diag=i)\n",
    "\n",
    "    rep_counts = {}\n",
    "    threshold = 2\n",
    "    rep_params = {\n",
    "        'AA':{'diag':1,'min_len':1},\n",
    "        'A1A':{'diag':2,'min_len':1},\n",
    "        'A3A':{'diag':4,'min_len':1},\n",
    "        'AAA':{'diag':1,'min_len':2},\n",
    "        'ABAB':{'diag':2,'min_len':2},\n",
    "        'AB2AB':{'diag':4,'min_len':2},\n",
    "    }\n",
    "    for name, params in rep_params.items():\n",
    "        rep_counts[name] = count_repititions(dist_mats_and_masks,diag=params['diag'],min_len=params['min_len'],threshold=threshold)\n",
    "\n",
    "    return diag_hist, diag_hist_denoms, rep_counts\n",
    "\n",
    "def analyze_stucture_from_folder(path,samples_per_song=1):\n",
    "    samples = load_pianorolls_from_folder(path)\n",
    "    return analyze_stucture(samples,samples_per_song)\n",
    "\n",
    "def summarize(analyzed,threshold=2):\n",
    "    diag_hist, diag_hist_denoms, rep_counts = analyzed\n",
    "    summary = {}\n",
    "    for diag in [1,2,4]:\n",
    "        summary['diag'+str(diag)] = sum([diag_hist[diag][d] for d in range(threshold)])\n",
    "\n",
    "    diag5plus = 0\n",
    "    total_weight = 0\n",
    "    for diag in range(5,16):\n",
    "        weight = diag_hist_denoms[diag]\n",
    "        diag5plus += sum([diag_hist[diag][d] for d in range(threshold)])*weight\n",
    "        total_weight += weight\n",
    "    summary['diag5+'] = diag5plus/total_weight\n",
    "    \n",
    "    for name, count in rep_counts.items():\n",
    "        summary[name] = count\n",
    "    return summary"
   ]
  },
  {
   "cell_type": "code",
   "execution_count": 80,
   "metadata": {},
   "outputs": [],
   "source": [
    "results = {}\n",
    "results['a'] = analyze_stucture(a_samples)\n",
    "results['b'] = analyze_stucture(b_samples)\n",
    "results['c'] = analyze_stucture(c_samples)"
   ]
  },
  {
   "cell_type": "code",
   "execution_count": 81,
   "metadata": {},
   "outputs": [],
   "source": [
    "results['cp30'] = analyze_stucture_from_folder('/screamlab/home/eri24816/compound-word-transformer/workspace/uncond/cp-linear/gen_midis/30',samples_per_song=4)\n",
    "results['cp32'] = analyze_stucture_from_folder('/screamlab/home/eri24816/compound-word-transformer/workspace/uncond/cp-linear/gen_midis/32',samples_per_song=4)\n",
    "results['cp34'] = analyze_stucture_from_folder('/screamlab/home/eri24816/compound-word-transformer/workspace/uncond/cp-linear/gen_midis/34',samples_per_song=4)"
   ]
  },
  {
   "cell_type": "code",
   "execution_count": 82,
   "metadata": {},
   "outputs": [],
   "source": [
    "results['dataset'] = analyze_stucture(dataset[::10],samples_per_song=1)"
   ]
  },
  {
   "cell_type": "code",
   "execution_count": 83,
   "metadata": {},
   "outputs": [],
   "source": [
    "def bar_multiple(histograms,labels,xticks=None):\n",
    "    x = np.arange(len(histograms[0]))\n",
    "    width = 1/(len(histograms)+1)\n",
    "    for i,histogram in enumerate(histograms):\n",
    "        plt.bar(x+i*width,histogram,width,label=labels[i])\n",
    "    if xticks is not None:\n",
    "        plt.xticks(x,xticks)\n",
    "    plt.legend()"
   ]
  },
  {
   "cell_type": "code",
   "execution_count": 84,
   "metadata": {},
   "outputs": [
    {
     "data": {
      "image/png": "[encoded data removed]",
      "text/plain": [
       "<Figure size 640x480 with 1 Axes>"
      ]
     },
     "metadata": {},
     "output_type": "display_data"
    }
   ],
   "source": [
    "# plt.bar(np.arange(12)-0.2,results['a'][0][1][:12],width=0.3,label='a')\n",
    "# plt.bar(np.arange(12)+0.1,results['cp'][0][1][:12],width=0.3,label='cp')\n",
    "# plt.bar(np.arange(12)+0.4,results['dataset'][0][1][:12],width=0.3,label='dataset')\n",
    "# plt.legend()\n",
    "max_x = 5\n",
    "diag = 3\n",
    "bar_multiple([results['a'][0][diag][:max_x],results['cp30'][0][diag][:max_x],results['cp32'][0][diag][:max_x],results['cp34'][0][diag][:max_x],results['dataset'][0][diag][:max_x]],['a','cp30','cp32','cp34','dataset'])\n",
    "\n",
    "plt.rcdefaults()"
   ]
  },
  {
   "cell_type": "code",
   "execution_count": 85,
   "metadata": {},
   "outputs": [
    {
     "data": {
      "image/png": "[encoded data removed]",
      "text/plain": [
       "<Figure size 640x480 with 1 Axes>"
      ]
     },
     "metadata": {},
     "output_type": "display_data"
    }
   ],
   "source": [
    "bar_multiple([\n",
    "    results['a'][2].values(),\n",
    "    results['b'][2].values(),\n",
    "    results['c'][2].values(),\n",
    "    results['cp30'][2].values(),\n",
    "    results['cp32'][2].values(),\n",
    "    results['cp34'][2].values(),\n",
    "    results['dataset'][2].values()\n",
    "              ],['a','b','c','cp30','cp32','cp34','dataset'],xticks=['AA','A1A','A3A','AAA','ABAB','AB2AB'])"
   ]
  },
  {
   "cell_type": "code",
   "execution_count": 86,
   "metadata": {},
   "outputs": [
    {
     "data": {
      "text/plain": [
       "{'diag1': 0.08542713567731876,\n",
       " 'diag2': 0.13406292749474608,\n",
       " 'diag4': 0.1813804173325621,\n",
       " 'diag5+': 0.04644890620183303,\n",
       " 'AA': 0.08542713567731876,\n",
       " 'A1A': 0.13406292749474605,\n",
       " 'A3A': 0.1813804173325621,\n",
       " 'AAA': 0.04648241205971756,\n",
       " 'ABAB': 0.0697674418595107,\n",
       " 'AB2AB': 0.11235955055999423}"
      ]
     },
     "execution_count": 86,
     "metadata": {},
     "output_type": "execute_result"
    }
   ],
   "source": [
    "summarize(results['a'])"
   ]
  },
  {
   "cell_type": "code",
   "execution_count": 87,
   "metadata": {},
   "outputs": [
    {
     "data": {
      "text/plain": [
       "{'diag1': 0.10692669804904556,\n",
       " 'diag2': 0.07791279485290985,\n",
       " 'diag4': 0.04999999999957627,\n",
       " 'diag5+': 0.037584525868273204,\n",
       " 'AA': 0.10692669804904556,\n",
       " 'A1A': 0.07791279485290985,\n",
       " 'A3A': 0.04999999999957627,\n",
       " 'AAA': 0.05110961667753121,\n",
       " 'ABAB': 0.01858470335940969,\n",
       " 'AB2AB': 0.01101694915244901}"
      ]
     },
     "execution_count": 87,
     "metadata": {},
     "output_type": "execute_result"
    }
   ],
   "source": [
    "summarize(results['cp32'])"
   ]
  },
  {
   "cell_type": "code",
   "execution_count": 88,
   "metadata": {},
   "outputs": [
    {
     "data": {
      "text/plain": [
       "{'diag1': 0.11279193205914864,\n",
       " 'diag2': 0.13342816500673277,\n",
       " 'diag4': 0.1688829787228428,\n",
       " 'diag5+': 0.04433647130249441,\n",
       " 'AA': 0.11279193205914864,\n",
       " 'A1A': 0.1334281650067328,\n",
       " 'A3A': 0.1688829787228428,\n",
       " 'AAA': 0.06263269639049196,\n",
       " 'ABAB': 0.07226173541942457,\n",
       " 'AB2AB': 0.1286569148931893}"
      ]
     },
     "execution_count": 88,
     "metadata": {},
     "output_type": "execute_result"
    }
   ],
   "source": [
    "summarize(results['dataset'])"
   ]
  }
 ],
 "metadata": {
  "kernelspec": {
   "display_name": "Python 3.8.0 ('music')",
   "language": "python",
   "name": "python3"
  },
  "language_info": {
   "codemirror_mode": {
    "name": "ipython",
    "version": 3
   },
   "file_extension": ".py",
   "mimetype": "text/x-python",
   "name": "python",
   "nbconvert_exporter": "python",
   "pygments_lexer": "ipython3",
   "version": "3.8.0"
  },
  "orig_nbformat": 4,
  "vscode": {
   "interpreter": {
    "hash": "3eaf417fe2c1d8874a3e92f187d4f71d692dc094dc77bbe31ebc3687fc476eb8"
   }
  }
 },
 "nbformat": 4,
 "nbformat_minor": 2
}
